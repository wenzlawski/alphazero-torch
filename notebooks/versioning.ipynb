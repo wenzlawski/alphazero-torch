{
 "cells": [
  {
   "cell_type": "code",
   "execution_count": 3,
   "metadata": {},
   "outputs": [],
   "source": [
    "def extract(fn):\n",
    "    with open(fn, mode=\"r\") as rqf:\n",
    "        mods1 = {}\n",
    "        for line in rqf.readlines():\n",
    "            n, v = line.strip().split(\"==\")\n",
    "            mods1[n] = v\n",
    "    return mods1"
   ]
  },
  {
   "cell_type": "code",
   "execution_count": 4,
   "metadata": {},
   "outputs": [],
   "source": [
    "m1 = extract(\"../requirements.txt\")\n",
    "m2 = extract(\"../tournament_env.txt\")\n",
    "for k,v in m2.items():\n",
    "    if k in m1:\n",
    "        m1[k] = v"
   ]
  },
  {
   "cell_type": "code",
   "execution_count": 6,
   "metadata": {},
   "outputs": [],
   "source": [
    "with open('requirements2.txt', mode='w') as f:\n",
    "    for k,v in m1.items():\n",
    "        f.write(f\"{k}=={v}\\n\")"
   ]
  },
  {
   "cell_type": "code",
   "execution_count": null,
   "metadata": {},
   "outputs": [],
   "source": []
  }
 ],
 "metadata": {
  "kernelspec": {
   "display_name": "Python 3.8.5 ('base')",
   "language": "python",
   "name": "python3"
  },
  "language_info": {
   "codemirror_mode": {
    "name": "ipython",
    "version": 3
   },
   "file_extension": ".py",
   "mimetype": "text/x-python",
   "name": "python",
   "nbconvert_exporter": "python",
   "pygments_lexer": "ipython3",
   "version": "3.8.5"
  },
  "orig_nbformat": 4,
  "vscode": {
   "interpreter": {
    "hash": "d1c38c552df2ac40c7114b64cccf8be99ffa51066998be1ab8449b8ee17004b3"
   }
  }
 },
 "nbformat": 4,
 "nbformat_minor": 2
}
