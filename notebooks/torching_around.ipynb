{
 "cells": [
  {
   "cell_type": "markdown",
   "metadata": {},
   "source": [
    "## Testing pytorch code"
   ]
  },
  {
   "cell_type": "code",
   "execution_count": 2,
   "metadata": {},
   "outputs": [],
   "source": [
    "import torch\n",
    "from torch.utils.data import Dataset, DataLoader, RandomSampler\n",
    "import numpy as np"
   ]
  },
  {
   "cell_type": "code",
   "execution_count": 36,
   "metadata": {},
   "outputs": [],
   "source": [
    "class MyDataset(Dataset):\n",
    "    def __init__(self, data) -> None:\n",
    "        self.data = data[0]\n",
    "        self.data2 = data[1]\n",
    "\n",
    "    def __len__(self):\n",
    "        return len(self.data)\n",
    "\n",
    "    def __getitem__(self, idx):\n",
    "        return self.data[idx], self.data2[idx]\n",
    "\n"
   ]
  },
  {
   "cell_type": "code",
   "execution_count": 37,
   "metadata": {},
   "outputs": [],
   "source": [
    "buffer_size = 80\n",
    "buffer_reuse = 3\n",
    "batch_size = 20\n",
    "\n",
    "# Should be 4 batches with 20 items each"
   ]
  },
  {
   "cell_type": "code",
   "execution_count": 38,
   "metadata": {},
   "outputs": [],
   "source": [
    "d = list(range(0,buffer_size // buffer_reuse,1))\n",
    "ds = MyDataset((d, d))"
   ]
  },
  {
   "cell_type": "code",
   "execution_count": 39,
   "metadata": {},
   "outputs": [],
   "source": [
    "rds = RandomSampler(ds, replacement=True, num_samples=buffer_size)"
   ]
  },
  {
   "cell_type": "code",
   "execution_count": 40,
   "metadata": {},
   "outputs": [],
   "source": [
    "dl = DataLoader(ds, sampler=rds, batch_size=batch_size)"
   ]
  },
  {
   "cell_type": "code",
   "execution_count": 41,
   "metadata": {},
   "outputs": [
    {
     "name": "stdout",
     "output_type": "stream",
     "text": [
      "[tensor([10, 18,  6, 13, 19, 12, 11, 24,  3,  5, 15,  2, 21, 18, 11, 15, 22,  2,\n",
      "        16,  7]), tensor([10, 18,  6, 13, 19, 12, 11, 24,  3,  5, 15,  2, 21, 18, 11, 15, 22,  2,\n",
      "        16,  7])]\n",
      "2\n",
      "[tensor([11,  0, 17, 21, 19, 17, 12,  8,  3, 19,  9,  6,  1,  9, 11, 21, 15, 20,\n",
      "         2, 17]), tensor([11,  0, 17, 21, 19, 17, 12,  8,  3, 19,  9,  6,  1,  9, 11, 21, 15, 20,\n",
      "         2, 17])]\n",
      "2\n",
      "[tensor([15, 12, 15,  4, 17, 25,  3, 17,  1, 20,  4, 17,  0,  6, 13,  8,  4, 20,\n",
      "        17, 21]), tensor([15, 12, 15,  4, 17, 25,  3, 17,  1, 20,  4, 17,  0,  6, 13,  8,  4, 20,\n",
      "        17, 21])]\n",
      "2\n",
      "[tensor([14,  4,  9, 15, 20, 16,  3, 11, 17,  5, 18, 25, 14, 18,  7, 14,  6, 14,\n",
      "         9, 24]), tensor([14,  4,  9, 15, 20, 16,  3, 11, 17,  5, 18, 25, 14, 18,  7, 14,  6, 14,\n",
      "         9, 24])]\n",
      "2\n"
     ]
    }
   ],
   "source": [
    "for batch in dl:\n",
    "    print(batch)\n",
    "    print(len(batch))"
   ]
  },
  {
   "cell_type": "code",
   "execution_count": 57,
   "metadata": {},
   "outputs": [],
   "source": [
    "ds = torch.load(\"../dataset.pt\")"
   ]
  },
  {
   "cell_type": "code",
   "execution_count": 58,
   "metadata": {},
   "outputs": [
    {
     "data": {
      "text/plain": [
       "NoneType"
      ]
     },
     "execution_count": 58,
     "metadata": {},
     "output_type": "execute_result"
    }
   ],
   "source": [
    "type(ds)"
   ]
  },
  {
   "cell_type": "code",
   "execution_count": 47,
   "metadata": {},
   "outputs": [
    {
     "data": {
      "text/plain": [
       "[0, 1, 2, 3, 4, 5, 6, 7, 8, 9, 10, 11, 12, 13, 14, 15, 16, 17, 18, 19]"
      ]
     },
     "execution_count": 47,
     "metadata": {},
     "output_type": "execute_result"
    }
   ],
   "source": [
    "max_size = 10\n",
    "l = list(range(20))\n",
    "l"
   ]
  },
  {
   "cell_type": "code",
   "execution_count": 48,
   "metadata": {},
   "outputs": [
    {
     "data": {
      "text/plain": [
       "[10, 11, 12, 13, 14, 15, 16, 17, 18, 19]"
      ]
     },
     "execution_count": 48,
     "metadata": {},
     "output_type": "execute_result"
    }
   ],
   "source": [
    "l[: -max_size] = []\n",
    "l"
   ]
  },
  {
   "cell_type": "code",
   "execution_count": 59,
   "metadata": {},
   "outputs": [],
   "source": [
    "import collections\n",
    "nt = collections.namedtuple(\"Tuple\", \"one two three\")"
   ]
  },
  {
   "cell_type": "code",
   "execution_count": 60,
   "metadata": {},
   "outputs": [],
   "source": [
    "a = nt(1, 2, 3)"
   ]
  },
  {
   "cell_type": "code",
   "execution_count": 61,
   "metadata": {},
   "outputs": [],
   "source": [
    "x, y, z = a"
   ]
  },
  {
   "cell_type": "code",
   "execution_count": 62,
   "metadata": {},
   "outputs": [
    {
     "data": {
      "text/plain": [
       "1"
      ]
     },
     "execution_count": 62,
     "metadata": {},
     "output_type": "execute_result"
    }
   ],
   "source": [
    "x"
   ]
  },
  {
   "cell_type": "code",
   "execution_count": null,
   "metadata": {},
   "outputs": [],
   "source": []
  }
 ],
 "metadata": {
  "kernelspec": {
   "display_name": "Python 3.8.15 64-bit ('openspiel')",
   "language": "python",
   "name": "python3"
  },
  "language_info": {
   "codemirror_mode": {
    "name": "ipython",
    "version": 3
   },
   "file_extension": ".py",
   "mimetype": "text/x-python",
   "name": "python",
   "nbconvert_exporter": "python",
   "pygments_lexer": "ipython3",
   "version": "3.8.15"
  },
  "orig_nbformat": 4,
  "vscode": {
   "interpreter": {
    "hash": "b2d4e84c060b36508808479b743b3d47ba74992f12bf3977b1959274bc0a2de9"
   }
  }
 },
 "nbformat": 4,
 "nbformat_minor": 2
}
